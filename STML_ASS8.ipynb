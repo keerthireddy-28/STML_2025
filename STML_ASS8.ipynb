{
  "nbformat": 4,
  "nbformat_minor": 0,
  "metadata": {
    "colab": {
      "provenance": [],
      "authorship_tag": "ABX9TyPvO5TbA/9mqVuubLzkPDHE",
      "include_colab_link": true
    },
    "kernelspec": {
      "name": "python3",
      "display_name": "Python 3"
    },
    "language_info": {
      "name": "python"
    }
  },
  "cells": [
    {
      "cell_type": "markdown",
      "metadata": {
        "id": "view-in-github",
        "colab_type": "text"
      },
      "source": [
        "<a href=\"https://colab.research.google.com/github/keerthireddy-28/STML_2025/blob/main/STML_ASS8.ipynb\" target=\"_parent\"><img src=\"https://colab.research.google.com/assets/colab-badge.svg\" alt=\"Open In Colab\"/></a>"
      ]
    },
    {
      "cell_type": "markdown",
      "source": [
        "**Question 1**"
      ],
      "metadata": {
        "id": "YJUj0HSz-HY1"
      }
    },
    {
      "cell_type": "code",
      "source": [
        "import pandas as pd\n",
        "from sklearn.model_selection import train_test_split\n",
        "from sklearn.linear_model import LogisticRegression\n",
        "from sklearn.metrics import accuracy_score\n",
        "data = {\n",
        "'X1': [10, 5, 15, 2, 12, 8, 14, 3, 11, 6],\n",
        "'X2': [90, 60, 95, 30, 85, 75, 92, 50, 88, 65],\n",
        "'X3': [85, 70, 90, 50, 88, 65, 93, 55, 80, 60],\n",
        "'X4': [1, 0, 1, 0, 1, 0, 1, 0, 1, 0],\n",
        "'X5': [100, 80, 100, 40, 90, 70, 95, 60, 85, 75],\n",
        "'Pass/Fail': [1, 0, 1, 0, 1, 0, 1, 0, 1, 0]\n",
        "}\n",
        "df = pd.DataFrame(data)\n",
        "X = df[['X1', 'X2', 'X3', 'X4', 'X5']]\n",
        "y = df['Pass/Fail']\n",
        "# Split the dataset into training (70%) and testing (30%) sets\n",
        "X_train, X_test, y_train, y_test = train_test_split(X, y, test_size=0.3, random_state=42)\n",
        "model = LogisticRegression()\n",
        "model.fit(X_train, y_train)\n",
        "y_pred = model.predict(X_test)\n",
        "accuracy = accuracy_score(y_test, y_pred)\n",
        "print(f\"Model Accuracy: {accuracy * 100:.2f}%\")\n",
        "sample = pd.DataFrame([[10, 90, 85, 1, 100]], columns=['X1', 'X2', 'X3', 'X4', 'X5']) # Use the same column names\n",
        "predicted_pass_fail = model.predict(sample)\n",
        "print(\"Prediction for the sample:\", \"Pass\" if predicted_pass_fail[0] == 1 else \"Fail\")"
      ],
      "metadata": {
        "colab": {
          "base_uri": "https://localhost:8080/"
        },
        "id": "Bz4ViA7bGYct",
        "outputId": "ae2e2548-5298-40ab-a1dd-33c3a5f728d1"
      },
      "execution_count": null,
      "outputs": [
        {
          "output_type": "stream",
          "name": "stdout",
          "text": [
            "Model Accuracy: 100.00%\n",
            "Prediction for the sample: Pass\n"
          ]
        }
      ]
    },
    {
      "cell_type": "markdown",
      "source": [
        "**Question** **2**"
      ],
      "metadata": {
        "id": "3s9DP5C3-Ori"
      }
    },
    {
      "cell_type": "code",
      "source": [
        "import pandas as pd\n",
        "from sklearn.model_selection import train_test_split\n",
        "from sklearn.linear_model import LogisticRegression\n",
        "from sklearn.metrics import accuracy_score, confusion_matrix\n",
        "\n",
        "url = '/content/diabetes_data_upload.csv'\n",
        "df = pd.read_csv(url)\n",
        "\n",
        "\n",
        "df = pd.get_dummies(df, columns=['Gender'], drop_first=True)\n",
        "\n",
        "\n",
        "for col in ['Polyuria', 'Polydipsia', 'sudden weight loss', 'weakness', 'Polyphagia', 'Genital thrush', 'visual blurring', 'Itching', 'Irritability', 'delayed healing', 'partial paresis', 'muscle stiffness', 'Alopecia', 'Obesity']:\n",
        "    df[col] = df[col].map({'Yes': 1, 'No': 0})\n",
        "\n",
        "X = df.drop('class', axis=1)\n",
        "y = df['class']\n",
        "\n",
        "X_train, X_test, y_train, y_test = train_test_split(X, y, test_size=0.2, random_state=42)\n",
        "\n",
        "model = LogisticRegression(solver='liblinear', random_state=42)\n",
        "model.fit(X_train, y_train)\n",
        "\n",
        "y_pred = model.predict(X_test)\n",
        "\n",
        "accuracy = accuracy_score(y_test, y_pred)\n",
        "\n",
        "print(f\"Accuracy: {accuracy*100:.2f}%\")"
      ],
      "metadata": {
        "colab": {
          "base_uri": "https://localhost:8080/"
        },
        "id": "5zFnjKCw9v-c",
        "outputId": "ad0c7eeb-3794-43bb-c95b-8ed8167e47a9"
      },
      "execution_count": null,
      "outputs": [
        {
          "output_type": "stream",
          "name": "stdout",
          "text": [
            "Accuracy: 93.27%\n"
          ]
        }
      ]
    }
  ]
}