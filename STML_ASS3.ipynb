{
  "nbformat": 4,
  "nbformat_minor": 0,
  "metadata": {
    "colab": {
      "provenance": [],
      "authorship_tag": "ABX9TyMe2hjhGq+kgbeLVZ3h7plw",
      "include_colab_link": true
    },
    "kernelspec": {
      "name": "python3",
      "display_name": "Python 3"
    },
    "language_info": {
      "name": "python"
    }
  },
  "cells": [
    {
      "cell_type": "markdown",
      "metadata": {
        "id": "view-in-github",
        "colab_type": "text"
      },
      "source": [
        "<a href=\"https://colab.research.google.com/github/keerthireddy-28/STML_2025/blob/main/STML_ASS3.ipynb\" target=\"_parent\"><img src=\"https://colab.research.google.com/assets/colab-badge.svg\" alt=\"Open In Colab\"/></a>"
      ]
    },
    {
      "cell_type": "code",
      "execution_count": null,
      "metadata": {
        "colab": {
          "base_uri": "https://localhost:8080/"
        },
        "id": "Ka_yMhTvFzV4",
        "outputId": "8223536e-313c-48ff-81ad-1b4bd82579bf"
      },
      "outputs": [
        {
          "output_type": "stream",
          "name": "stdout",
          "text": [
            "Mounted at /content/drive\n"
          ]
        }
      ],
      "source": [
        "from google. colab import drive\n",
        "drive.mount('/content/drive')"
      ]
    },
    {
      "cell_type": "code",
      "source": [
        "import pandas as pd\n",
        "from scipy.stats import norm\n",
        "california_housing = pd. read_csv('/content/drive/MyDrive/housing.csv')\n",
        "print (california_housing)\n",
        "print (california_housing.columns)"
      ],
      "metadata": {
        "colab": {
          "base_uri": "https://localhost:8080/"
        },
        "id": "kOSoet6PHI-7",
        "outputId": "5eeeadb9-985d-4692-dc7a-ba0c50675f88"
      },
      "execution_count": null,
      "outputs": [
        {
          "output_type": "stream",
          "name": "stdout",
          "text": [
            "       longitude  latitude  housing_median_age  total_rooms  total_bedrooms  \\\n",
            "0        -122.23     37.88                41.0        880.0           129.0   \n",
            "1        -122.22     37.86                21.0       7099.0          1106.0   \n",
            "2        -122.24     37.85                52.0       1467.0           190.0   \n",
            "3        -122.25     37.85                52.0       1274.0           235.0   \n",
            "4        -122.25     37.85                52.0       1627.0           280.0   \n",
            "...          ...       ...                 ...          ...             ...   \n",
            "20635    -121.09     39.48                25.0       1665.0           374.0   \n",
            "20636    -121.21     39.49                18.0        697.0           150.0   \n",
            "20637    -121.22     39.43                17.0       2254.0           485.0   \n",
            "20638    -121.32     39.43                18.0       1860.0           409.0   \n",
            "20639    -121.24     39.37                16.0       2785.0           616.0   \n",
            "\n",
            "       population  households  median_income  median_house_value  \\\n",
            "0           322.0       126.0         8.3252            452600.0   \n",
            "1          2401.0      1138.0         8.3014            358500.0   \n",
            "2           496.0       177.0         7.2574            352100.0   \n",
            "3           558.0       219.0         5.6431            341300.0   \n",
            "4           565.0       259.0         3.8462            342200.0   \n",
            "...           ...         ...            ...                 ...   \n",
            "20635       845.0       330.0         1.5603             78100.0   \n",
            "20636       356.0       114.0         2.5568             77100.0   \n",
            "20637      1007.0       433.0         1.7000             92300.0   \n",
            "20638       741.0       349.0         1.8672             84700.0   \n",
            "20639      1387.0       530.0         2.3886             89400.0   \n",
            "\n",
            "      ocean_proximity  \n",
            "0            NEAR BAY  \n",
            "1            NEAR BAY  \n",
            "2            NEAR BAY  \n",
            "3            NEAR BAY  \n",
            "4            NEAR BAY  \n",
            "...               ...  \n",
            "20635          INLAND  \n",
            "20636          INLAND  \n",
            "20637          INLAND  \n",
            "20638          INLAND  \n",
            "20639          INLAND  \n",
            "\n",
            "[20640 rows x 10 columns]\n",
            "Index(['longitude', 'latitude', 'housing_median_age', 'total_rooms',\n",
            "       'total_bedrooms', 'population', 'households', 'median_income',\n",
            "       'median_house_value', 'ocean_proximity'],\n",
            "      dtype='object')\n"
          ]
        }
      ]
    },
    {
      "cell_type": "code",
      "source": [
        "import pandas as pd\n",
        "from scipy.stats import norm\n",
        "california_housing=pd.read_csv('/content/drive/MyDrive/housing.csv')\n",
        "columns=['latitude', 'total_rooms', 'housing_median_age', 'total_bedrooms']\n",
        "\n",
        "params={}\n",
        "for col in columns:\n",
        "  if col in california_housing.columns:\n",
        "    data=california_housing [col]\n",
        "\n",
        "    data_clean =data.dropna() # removed extra spaces at the beginning of the line\n",
        "    mu, sigma = norm.fit(data_clean) # fixed typo: replaced - with =\n",
        "    params[col]=(mu, sigma)\n",
        "else:\n",
        "  print (f\" Column '{col}' not found in the DataFrame.\")\n",
        "for col, (mu, sigma) in params.items():\n",
        "  print (f\" Column: {col}\") # added curly braces {} around col\n",
        "  print (f\" Mean (mu): {mu: .4f}\") # added curly braces {} around mu and a space before :\n",
        "  print (f\" Standard Deviation (sigma): {sigma: .4f}\") # added curly braces {} around sigma and a space before :\n",
        "  print(\"---------------\")"
      ],
      "metadata": {
        "colab": {
          "base_uri": "https://localhost:8080/"
        },
        "id": "u3cH5ueVIQ2p",
        "outputId": "0475a784-d6ee-42d0-bf0d-69284ac276b0"
      },
      "execution_count": null,
      "outputs": [
        {
          "output_type": "stream",
          "name": "stdout",
          "text": [
            " Column 'total_bedrooms' not found in the DataFrame.\n",
            " Column: latitude\n",
            " Mean (mu):  35.6319\n",
            " Standard Deviation (sigma):  2.1359\n",
            "---------------\n",
            " Column: total_rooms\n",
            " Mean (mu):  2635.7631\n",
            " Standard Deviation (sigma):  2181.5624\n",
            "---------------\n",
            " Column: housing_median_age\n",
            " Mean (mu):  28.6395\n",
            " Standard Deviation (sigma):  12.5853\n",
            "---------------\n",
            " Column: total_bedrooms\n",
            " Mean (mu):  537.8706\n",
            " Standard Deviation (sigma):  421.3748\n",
            "---------------\n"
          ]
        }
      ]
    },
    {
      "cell_type": "code",
      "source": [
        "import numpy as np\n",
        "from scipy. stats import norm\n",
        "california_housing=pd.read_csv('/content/drive/MyDrive/housing.csv')\n",
        "\n",
        "latitude=california_housing['latitude']\n",
        "mu, sigma=norm.fit (latitude)\n",
        "values=[50, 75, 80]\n",
        "log_likelihoods=[norm.logpdf(x, mu, sigma) for x in values]\n",
        "print(\"Log-likelihood values: \")\n",
        "print(\"Value 50:\", log_likelihoods[0])\n",
        "print(\"Value 75:\", log_likelihoods[1])\n",
        "print(\"Value 80:\", log_likelihoods [2])\n",
        "print(\"Maximum likelihood value:\",mu)"
      ],
      "metadata": {
        "colab": {
          "base_uri": "https://localhost:8080/"
        },
        "id": "2BCuo-RwIh5z",
        "outputId": "90f13a7e-990e-42e6-cb00-a96c1a5a8c1a"
      },
      "execution_count": null,
      "outputs": [
        {
          "output_type": "stream",
          "name": "stdout",
          "text": [
            "Log-likelihood values: \n",
            "Value 50: -24.30388630999708\n",
            "Value 75: -171.5403881924758\n",
            "Value 80: -217.42758836196197\n",
            "Maximum likelihood value: 35.63186143410853\n"
          ]
        }
      ]
    },
    {
      "cell_type": "code",
      "source": [
        "import numpy as np\n",
        "import matplotlib.pyplot as plt\n",
        "from scipy. stats import gaussian_kde\n",
        "california_housing= pd.read_csv('/content/sample_data/california_housing_train.csv')\n",
        "columns= ('latitude','total_rooms','housing_median_age','total_bedrooms')\n",
        "for col in columns:\n",
        "  data=california_housing[col]\n",
        "  data_cleaned=data.replace([np.inf, -np.inf], np.nan ) .dropna()\n",
        "  bins=[5, 10, 15, 20]\n",
        "  hist, bin_edges =np. histogram(data_cleaned, bins=bins)\n",
        "  kde=gaussian_kde(data_cleaned)\n",
        "  x= np.linspace (bin_edges[0] , bin_edges[1],100)\n",
        "  density=kde.evaluate(x)"
      ],
      "metadata": {
        "id": "C127sg0CUbzu"
      },
      "execution_count": null,
      "outputs": []
    },
    {
      "cell_type": "code",
      "source": [
        "plt.plot(x, density, label=f\" Density of [ col]\" )\n",
        "plt.hist(data_cleaned, bins=bins, alpha=0.5, label= f\" Histogram of {col}\")\n",
        "plt.legend()\n",
        "plt.show()"
      ],
      "metadata": {
        "colab": {
          "base_uri": "https://localhost:8080/",
          "height": 430
        },
        "id": "FBYxxBq9UkY1",
        "outputId": "801e82af-d28d-4635-a159-9552f477a7fe"
      },
      "execution_count": null,
      "outputs": [
        {
          "output_type": "display_data",
          "data": {
            "text/plain": [
              "<Figure size 640x480 with 1 Axes>"
            ],
            "image/png": "[encoded data removed]"
          },
          "metadata": {}
        }
      ]
    }
  ]
}